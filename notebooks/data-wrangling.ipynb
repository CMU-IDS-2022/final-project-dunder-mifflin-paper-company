{
 "cells": [
  {
   "cell_type": "markdown",
   "id": "caac882f",
   "metadata": {},
   "source": [
    "## Extracting Data for Map"
   ]
  },
  {
   "cell_type": "code",
   "execution_count": 1,
   "id": "168a413a",
   "metadata": {},
   "outputs": [],
   "source": [
    "import pandas as pd\n",
    "from datetime import datetime"
   ]
  },
  {
   "cell_type": "code",
   "execution_count": 2,
   "id": "a2442ac5",
   "metadata": {},
   "outputs": [
    {
     "ename": "FileNotFoundError",
     "evalue": "[Errno 2] No such file or directory: '../data/COVID-19_Reported_Patient_Impact_and_Hospital_Capacity_by_State_Timeseries.csv'",
     "output_type": "error",
     "traceback": [
      "\u001b[0;31m---------------------------------------------------------------------------\u001b[0m",
      "\u001b[0;31mFileNotFoundError\u001b[0m                         Traceback (most recent call last)",
      "\u001b[0;32m/var/folders/43/ns67_5ts7dxfqlbcgrf6x9f00000gn/T/ipykernel_5666/2688054066.py\u001b[0m in \u001b[0;36m<module>\u001b[0;34m\u001b[0m\n\u001b[0;32m----> 1\u001b[0;31m \u001b[0mdf_utlization\u001b[0m \u001b[0;34m=\u001b[0m \u001b[0mpd\u001b[0m\u001b[0;34m.\u001b[0m\u001b[0mread_csv\u001b[0m\u001b[0;34m(\u001b[0m\u001b[0;34m\"../data/COVID-19_Reported_Patient_Impact_and_Hospital_Capacity_by_State_Timeseries.csv\"\u001b[0m\u001b[0;34m)\u001b[0m\u001b[0;34m\u001b[0m\u001b[0;34m\u001b[0m\u001b[0m\n\u001b[0m\u001b[1;32m      2\u001b[0m \u001b[0mdf_epidemiology\u001b[0m \u001b[0;34m=\u001b[0m \u001b[0mpd\u001b[0m\u001b[0;34m.\u001b[0m\u001b[0mread_csv\u001b[0m\u001b[0;34m(\u001b[0m\u001b[0;34m\"../data/world_epidemiology.csv\"\u001b[0m\u001b[0;34m)\u001b[0m\u001b[0;34m\u001b[0m\u001b[0;34m\u001b[0m\u001b[0m\n\u001b[1;32m      3\u001b[0m \u001b[0mindex\u001b[0m \u001b[0;34m=\u001b[0m \u001b[0mpd\u001b[0m\u001b[0;34m.\u001b[0m\u001b[0mread_csv\u001b[0m\u001b[0;34m(\u001b[0m\u001b[0;34m\"../data/index.csv\"\u001b[0m\u001b[0;34m)\u001b[0m\u001b[0;34m\u001b[0m\u001b[0;34m\u001b[0m\u001b[0m\n",
      "\u001b[0;32m~/opt/anaconda3/lib/python3.9/site-packages/pandas/util/_decorators.py\u001b[0m in \u001b[0;36mwrapper\u001b[0;34m(*args, **kwargs)\u001b[0m\n\u001b[1;32m    309\u001b[0m                     \u001b[0mstacklevel\u001b[0m\u001b[0;34m=\u001b[0m\u001b[0mstacklevel\u001b[0m\u001b[0;34m,\u001b[0m\u001b[0;34m\u001b[0m\u001b[0;34m\u001b[0m\u001b[0m\n\u001b[1;32m    310\u001b[0m                 )\n\u001b[0;32m--> 311\u001b[0;31m             \u001b[0;32mreturn\u001b[0m \u001b[0mfunc\u001b[0m\u001b[0;34m(\u001b[0m\u001b[0;34m*\u001b[0m\u001b[0margs\u001b[0m\u001b[0;34m,\u001b[0m \u001b[0;34m**\u001b[0m\u001b[0mkwargs\u001b[0m\u001b[0;34m)\u001b[0m\u001b[0;34m\u001b[0m\u001b[0;34m\u001b[0m\u001b[0m\n\u001b[0m\u001b[1;32m    312\u001b[0m \u001b[0;34m\u001b[0m\u001b[0m\n\u001b[1;32m    313\u001b[0m         \u001b[0;32mreturn\u001b[0m \u001b[0mwrapper\u001b[0m\u001b[0;34m\u001b[0m\u001b[0;34m\u001b[0m\u001b[0m\n",
      "\u001b[0;32m~/opt/anaconda3/lib/python3.9/site-packages/pandas/io/parsers/readers.py\u001b[0m in \u001b[0;36mread_csv\u001b[0;34m(filepath_or_buffer, sep, delimiter, header, names, index_col, usecols, squeeze, prefix, mangle_dupe_cols, dtype, engine, converters, true_values, false_values, skipinitialspace, skiprows, skipfooter, nrows, na_values, keep_default_na, na_filter, verbose, skip_blank_lines, parse_dates, infer_datetime_format, keep_date_col, date_parser, dayfirst, cache_dates, iterator, chunksize, compression, thousands, decimal, lineterminator, quotechar, quoting, doublequote, escapechar, comment, encoding, encoding_errors, dialect, error_bad_lines, warn_bad_lines, on_bad_lines, delim_whitespace, low_memory, memory_map, float_precision, storage_options)\u001b[0m\n\u001b[1;32m    678\u001b[0m     \u001b[0mkwds\u001b[0m\u001b[0;34m.\u001b[0m\u001b[0mupdate\u001b[0m\u001b[0;34m(\u001b[0m\u001b[0mkwds_defaults\u001b[0m\u001b[0;34m)\u001b[0m\u001b[0;34m\u001b[0m\u001b[0;34m\u001b[0m\u001b[0m\n\u001b[1;32m    679\u001b[0m \u001b[0;34m\u001b[0m\u001b[0m\n\u001b[0;32m--> 680\u001b[0;31m     \u001b[0;32mreturn\u001b[0m \u001b[0m_read\u001b[0m\u001b[0;34m(\u001b[0m\u001b[0mfilepath_or_buffer\u001b[0m\u001b[0;34m,\u001b[0m \u001b[0mkwds\u001b[0m\u001b[0;34m)\u001b[0m\u001b[0;34m\u001b[0m\u001b[0;34m\u001b[0m\u001b[0m\n\u001b[0m\u001b[1;32m    681\u001b[0m \u001b[0;34m\u001b[0m\u001b[0m\n\u001b[1;32m    682\u001b[0m \u001b[0;34m\u001b[0m\u001b[0m\n",
      "\u001b[0;32m~/opt/anaconda3/lib/python3.9/site-packages/pandas/io/parsers/readers.py\u001b[0m in \u001b[0;36m_read\u001b[0;34m(filepath_or_buffer, kwds)\u001b[0m\n\u001b[1;32m    573\u001b[0m \u001b[0;34m\u001b[0m\u001b[0m\n\u001b[1;32m    574\u001b[0m     \u001b[0;31m# Create the parser.\u001b[0m\u001b[0;34m\u001b[0m\u001b[0;34m\u001b[0m\u001b[0m\n\u001b[0;32m--> 575\u001b[0;31m     \u001b[0mparser\u001b[0m \u001b[0;34m=\u001b[0m \u001b[0mTextFileReader\u001b[0m\u001b[0;34m(\u001b[0m\u001b[0mfilepath_or_buffer\u001b[0m\u001b[0;34m,\u001b[0m \u001b[0;34m**\u001b[0m\u001b[0mkwds\u001b[0m\u001b[0;34m)\u001b[0m\u001b[0;34m\u001b[0m\u001b[0;34m\u001b[0m\u001b[0m\n\u001b[0m\u001b[1;32m    576\u001b[0m \u001b[0;34m\u001b[0m\u001b[0m\n\u001b[1;32m    577\u001b[0m     \u001b[0;32mif\u001b[0m \u001b[0mchunksize\u001b[0m \u001b[0;32mor\u001b[0m \u001b[0miterator\u001b[0m\u001b[0;34m:\u001b[0m\u001b[0;34m\u001b[0m\u001b[0;34m\u001b[0m\u001b[0m\n",
      "\u001b[0;32m~/opt/anaconda3/lib/python3.9/site-packages/pandas/io/parsers/readers.py\u001b[0m in \u001b[0;36m__init__\u001b[0;34m(self, f, engine, **kwds)\u001b[0m\n\u001b[1;32m    931\u001b[0m \u001b[0;34m\u001b[0m\u001b[0m\n\u001b[1;32m    932\u001b[0m         \u001b[0mself\u001b[0m\u001b[0;34m.\u001b[0m\u001b[0mhandles\u001b[0m\u001b[0;34m:\u001b[0m \u001b[0mIOHandles\u001b[0m \u001b[0;34m|\u001b[0m \u001b[0;32mNone\u001b[0m \u001b[0;34m=\u001b[0m \u001b[0;32mNone\u001b[0m\u001b[0;34m\u001b[0m\u001b[0;34m\u001b[0m\u001b[0m\n\u001b[0;32m--> 933\u001b[0;31m         \u001b[0mself\u001b[0m\u001b[0;34m.\u001b[0m\u001b[0m_engine\u001b[0m \u001b[0;34m=\u001b[0m \u001b[0mself\u001b[0m\u001b[0;34m.\u001b[0m\u001b[0m_make_engine\u001b[0m\u001b[0;34m(\u001b[0m\u001b[0mf\u001b[0m\u001b[0;34m,\u001b[0m \u001b[0mself\u001b[0m\u001b[0;34m.\u001b[0m\u001b[0mengine\u001b[0m\u001b[0;34m)\u001b[0m\u001b[0;34m\u001b[0m\u001b[0;34m\u001b[0m\u001b[0m\n\u001b[0m\u001b[1;32m    934\u001b[0m \u001b[0;34m\u001b[0m\u001b[0m\n\u001b[1;32m    935\u001b[0m     \u001b[0;32mdef\u001b[0m \u001b[0mclose\u001b[0m\u001b[0;34m(\u001b[0m\u001b[0mself\u001b[0m\u001b[0;34m)\u001b[0m\u001b[0;34m:\u001b[0m\u001b[0;34m\u001b[0m\u001b[0;34m\u001b[0m\u001b[0m\n",
      "\u001b[0;32m~/opt/anaconda3/lib/python3.9/site-packages/pandas/io/parsers/readers.py\u001b[0m in \u001b[0;36m_make_engine\u001b[0;34m(self, f, engine)\u001b[0m\n\u001b[1;32m   1215\u001b[0m             \u001b[0;31m# \"Union[str, PathLike[str], ReadCsvBuffer[bytes], ReadCsvBuffer[str]]\"\u001b[0m\u001b[0;34m\u001b[0m\u001b[0;34m\u001b[0m\u001b[0m\n\u001b[1;32m   1216\u001b[0m             \u001b[0;31m# , \"str\", \"bool\", \"Any\", \"Any\", \"Any\", \"Any\", \"Any\"\u001b[0m\u001b[0;34m\u001b[0m\u001b[0;34m\u001b[0m\u001b[0m\n\u001b[0;32m-> 1217\u001b[0;31m             self.handles = get_handle(  # type: ignore[call-overload]\n\u001b[0m\u001b[1;32m   1218\u001b[0m                 \u001b[0mf\u001b[0m\u001b[0;34m,\u001b[0m\u001b[0;34m\u001b[0m\u001b[0;34m\u001b[0m\u001b[0m\n\u001b[1;32m   1219\u001b[0m                 \u001b[0mmode\u001b[0m\u001b[0;34m,\u001b[0m\u001b[0;34m\u001b[0m\u001b[0;34m\u001b[0m\u001b[0m\n",
      "\u001b[0;32m~/opt/anaconda3/lib/python3.9/site-packages/pandas/io/common.py\u001b[0m in \u001b[0;36mget_handle\u001b[0;34m(path_or_buf, mode, encoding, compression, memory_map, is_text, errors, storage_options)\u001b[0m\n\u001b[1;32m    787\u001b[0m         \u001b[0;32mif\u001b[0m \u001b[0mioargs\u001b[0m\u001b[0;34m.\u001b[0m\u001b[0mencoding\u001b[0m \u001b[0;32mand\u001b[0m \u001b[0;34m\"b\"\u001b[0m \u001b[0;32mnot\u001b[0m \u001b[0;32min\u001b[0m \u001b[0mioargs\u001b[0m\u001b[0;34m.\u001b[0m\u001b[0mmode\u001b[0m\u001b[0;34m:\u001b[0m\u001b[0;34m\u001b[0m\u001b[0;34m\u001b[0m\u001b[0m\n\u001b[1;32m    788\u001b[0m             \u001b[0;31m# Encoding\u001b[0m\u001b[0;34m\u001b[0m\u001b[0;34m\u001b[0m\u001b[0m\n\u001b[0;32m--> 789\u001b[0;31m             handle = open(\n\u001b[0m\u001b[1;32m    790\u001b[0m                 \u001b[0mhandle\u001b[0m\u001b[0;34m,\u001b[0m\u001b[0;34m\u001b[0m\u001b[0;34m\u001b[0m\u001b[0m\n\u001b[1;32m    791\u001b[0m                 \u001b[0mioargs\u001b[0m\u001b[0;34m.\u001b[0m\u001b[0mmode\u001b[0m\u001b[0;34m,\u001b[0m\u001b[0;34m\u001b[0m\u001b[0;34m\u001b[0m\u001b[0m\n",
      "\u001b[0;31mFileNotFoundError\u001b[0m: [Errno 2] No such file or directory: '../data/COVID-19_Reported_Patient_Impact_and_Hospital_Capacity_by_State_Timeseries.csv'"
     ]
    }
   ],
   "source": [
    "df_utlization = pd.read_csv(\"../data/COVID-19_Reported_Patient_Impact_and_Hospital_Capacity_by_State_Timeseries.csv\")\n",
    "df_epidemiology = pd.read_csv(\"../data/world_epidemiology.csv\")\n",
    "index = pd.read_csv(\"../data/index.csv\")"
   ]
  },
  {
   "cell_type": "code",
   "execution_count": null,
   "id": "9aaccfd2",
   "metadata": {},
   "outputs": [],
   "source": [
    "df_epidemiology_usa = df_epidemiology[df_epidemiology[\"location_key\"].str.contains('^US_[A-Z][A-Z]$', na=False)]"
   ]
  },
  {
   "cell_type": "code",
   "execution_count": 88,
   "id": "3e61da2c",
   "metadata": {},
   "outputs": [
    {
     "name": "stdout",
     "output_type": "stream",
     "text": [
      "45314\n",
      "45314\n"
     ]
    }
   ],
   "source": [
    "print(len(df_epidemiology_usa))\n",
    "df_epidemiology_usa_states = df_epidemiology_usa[df_epidemiology_usa[\"location_key\"] != \"US\"]\n",
    "print(len(df_epidemiology_usa_states))\n",
    "df_epidemiology_usa_states[\"state\"] = df_epidemiology_usa_states[\"location_key\"].apply(lambda row: row.split(\"_\")[1])"
   ]
  },
  {
   "cell_type": "code",
   "execution_count": 89,
   "id": "72229c3d",
   "metadata": {},
   "outputs": [
    {
     "name": "stderr",
     "output_type": "stream",
     "text": [
      "/var/folders/43/ns67_5ts7dxfqlbcgrf6x9f00000gn/T/ipykernel_53357/2805953193.py:2: SettingWithCopyWarning: \n",
      "A value is trying to be set on a copy of a slice from a DataFrame.\n",
      "Try using .loc[row_indexer,col_indexer] = value instead\n",
      "\n",
      "See the caveats in the documentation: https://pandas.pydata.org/pandas-docs/stable/user_guide/indexing.html#returning-a-view-versus-a-copy\n",
      "  df_epidemiology_usa_states_cases[\"date\"] = df_epidemiology_usa_states_cases[\"date\"].map(lambda row: datetime.strptime(row, \"%Y-%m-%d\").date())\n"
     ]
    }
   ],
   "source": [
    "df_epidemiology_usa_states_cases = df_epidemiology_usa_states[['date', 'state', 'location_key', 'new_confirmed']]\n",
    "df_epidemiology_usa_states_cases[\"date\"] = df_epidemiology_usa_states_cases[\"date\"].map(\n",
    "    lambda row: datetime.strptime(row, \"%Y-%m-%d\").date())"
   ]
  },
  {
   "cell_type": "code",
   "execution_count": 90,
   "id": "bdc7fbbe",
   "metadata": {},
   "outputs": [],
   "source": [
    "df_utlization[\"date\"] = df_utlization[\"date\"].map(lambda row: datetime.strptime(row, \"%Y/%m/%d\").date())"
   ]
  },
  {
   "cell_type": "code",
   "execution_count": 97,
   "id": "be7be698",
   "metadata": {},
   "outputs": [
    {
     "data": {
      "text/html": [
       "<div>\n",
       "<style scoped>\n",
       "    .dataframe tbody tr th:only-of-type {\n",
       "        vertical-align: middle;\n",
       "    }\n",
       "\n",
       "    .dataframe tbody tr th {\n",
       "        vertical-align: top;\n",
       "    }\n",
       "\n",
       "    .dataframe thead th {\n",
       "        text-align: right;\n",
       "    }\n",
       "</style>\n",
       "<table border=\"1\" class=\"dataframe\">\n",
       "  <thead>\n",
       "    <tr style=\"text-align: right;\">\n",
       "      <th></th>\n",
       "      <th>state</th>\n",
       "      <th>date</th>\n",
       "      <th>critical_staffing_shortage_today_yes</th>\n",
       "      <th>critical_staffing_shortage_today_no</th>\n",
       "      <th>critical_staffing_shortage_today_not_reported</th>\n",
       "      <th>critical_staffing_shortage_anticipated_within_week_yes</th>\n",
       "      <th>critical_staffing_shortage_anticipated_within_week_no</th>\n",
       "      <th>critical_staffing_shortage_anticipated_within_week_not_reported</th>\n",
       "      <th>hospital_onset_covid</th>\n",
       "      <th>hospital_onset_covid_coverage</th>\n",
       "      <th>...</th>\n",
       "      <th>previous_day_admission_influenza_confirmed</th>\n",
       "      <th>previous_day_admission_influenza_confirmed_coverage</th>\n",
       "      <th>previous_day_deaths_covid_and_influenza</th>\n",
       "      <th>previous_day_deaths_covid_and_influenza_coverage</th>\n",
       "      <th>previous_day_deaths_influenza</th>\n",
       "      <th>previous_day_deaths_influenza_coverage</th>\n",
       "      <th>total_patients_hospitalized_confirmed_influenza</th>\n",
       "      <th>total_patients_hospitalized_confirmed_influenza_and_covid</th>\n",
       "      <th>total_patients_hospitalized_confirmed_influenza_and_covid_coverage</th>\n",
       "      <th>total_patients_hospitalized_confirmed_influenza_coverage</th>\n",
       "    </tr>\n",
       "  </thead>\n",
       "  <tbody>\n",
       "    <tr>\n",
       "      <th>0</th>\n",
       "      <td>VI</td>\n",
       "      <td>2020-10-19</td>\n",
       "      <td>1</td>\n",
       "      <td>1</td>\n",
       "      <td>0</td>\n",
       "      <td>2</td>\n",
       "      <td>0</td>\n",
       "      <td>0</td>\n",
       "      <td>0.0</td>\n",
       "      <td>2</td>\n",
       "      <td>...</td>\n",
       "      <td>NaN</td>\n",
       "      <td>0</td>\n",
       "      <td>NaN</td>\n",
       "      <td>0</td>\n",
       "      <td>NaN</td>\n",
       "      <td>0</td>\n",
       "      <td>NaN</td>\n",
       "      <td>NaN</td>\n",
       "      <td>0</td>\n",
       "      <td>0</td>\n",
       "    </tr>\n",
       "    <tr>\n",
       "      <th>1</th>\n",
       "      <td>VI</td>\n",
       "      <td>2020-10-18</td>\n",
       "      <td>1</td>\n",
       "      <td>1</td>\n",
       "      <td>0</td>\n",
       "      <td>2</td>\n",
       "      <td>0</td>\n",
       "      <td>0</td>\n",
       "      <td>0.0</td>\n",
       "      <td>2</td>\n",
       "      <td>...</td>\n",
       "      <td>NaN</td>\n",
       "      <td>0</td>\n",
       "      <td>NaN</td>\n",
       "      <td>0</td>\n",
       "      <td>NaN</td>\n",
       "      <td>0</td>\n",
       "      <td>NaN</td>\n",
       "      <td>NaN</td>\n",
       "      <td>0</td>\n",
       "      <td>0</td>\n",
       "    </tr>\n",
       "    <tr>\n",
       "      <th>2</th>\n",
       "      <td>VT</td>\n",
       "      <td>2020-10-17</td>\n",
       "      <td>1</td>\n",
       "      <td>15</td>\n",
       "      <td>1</td>\n",
       "      <td>1</td>\n",
       "      <td>15</td>\n",
       "      <td>1</td>\n",
       "      <td>0.0</td>\n",
       "      <td>16</td>\n",
       "      <td>...</td>\n",
       "      <td>NaN</td>\n",
       "      <td>0</td>\n",
       "      <td>NaN</td>\n",
       "      <td>0</td>\n",
       "      <td>NaN</td>\n",
       "      <td>0</td>\n",
       "      <td>NaN</td>\n",
       "      <td>NaN</td>\n",
       "      <td>0</td>\n",
       "      <td>0</td>\n",
       "    </tr>\n",
       "    <tr>\n",
       "      <th>3</th>\n",
       "      <td>OR</td>\n",
       "      <td>2020-10-16</td>\n",
       "      <td>7</td>\n",
       "      <td>39</td>\n",
       "      <td>17</td>\n",
       "      <td>7</td>\n",
       "      <td>38</td>\n",
       "      <td>18</td>\n",
       "      <td>1.0</td>\n",
       "      <td>59</td>\n",
       "      <td>...</td>\n",
       "      <td>NaN</td>\n",
       "      <td>0</td>\n",
       "      <td>NaN</td>\n",
       "      <td>0</td>\n",
       "      <td>NaN</td>\n",
       "      <td>0</td>\n",
       "      <td>NaN</td>\n",
       "      <td>NaN</td>\n",
       "      <td>0</td>\n",
       "      <td>0</td>\n",
       "    </tr>\n",
       "    <tr>\n",
       "      <th>4</th>\n",
       "      <td>HI</td>\n",
       "      <td>2020-10-14</td>\n",
       "      <td>1</td>\n",
       "      <td>19</td>\n",
       "      <td>10</td>\n",
       "      <td>1</td>\n",
       "      <td>19</td>\n",
       "      <td>10</td>\n",
       "      <td>1.0</td>\n",
       "      <td>17</td>\n",
       "      <td>...</td>\n",
       "      <td>NaN</td>\n",
       "      <td>0</td>\n",
       "      <td>NaN</td>\n",
       "      <td>0</td>\n",
       "      <td>NaN</td>\n",
       "      <td>0</td>\n",
       "      <td>NaN</td>\n",
       "      <td>NaN</td>\n",
       "      <td>0</td>\n",
       "      <td>0</td>\n",
       "    </tr>\n",
       "  </tbody>\n",
       "</table>\n",
       "<p>5 rows × 117 columns</p>\n",
       "</div>"
      ],
      "text/plain": [
       "  state        date  critical_staffing_shortage_today_yes  \\\n",
       "0    VI  2020-10-19                                     1   \n",
       "1    VI  2020-10-18                                     1   \n",
       "2    VT  2020-10-17                                     1   \n",
       "3    OR  2020-10-16                                     7   \n",
       "4    HI  2020-10-14                                     1   \n",
       "\n",
       "   critical_staffing_shortage_today_no  \\\n",
       "0                                    1   \n",
       "1                                    1   \n",
       "2                                   15   \n",
       "3                                   39   \n",
       "4                                   19   \n",
       "\n",
       "   critical_staffing_shortage_today_not_reported  \\\n",
       "0                                              0   \n",
       "1                                              0   \n",
       "2                                              1   \n",
       "3                                             17   \n",
       "4                                             10   \n",
       "\n",
       "   critical_staffing_shortage_anticipated_within_week_yes  \\\n",
       "0                                                  2        \n",
       "1                                                  2        \n",
       "2                                                  1        \n",
       "3                                                  7        \n",
       "4                                                  1        \n",
       "\n",
       "   critical_staffing_shortage_anticipated_within_week_no  \\\n",
       "0                                                  0       \n",
       "1                                                  0       \n",
       "2                                                 15       \n",
       "3                                                 38       \n",
       "4                                                 19       \n",
       "\n",
       "   critical_staffing_shortage_anticipated_within_week_not_reported  \\\n",
       "0                                                  0                 \n",
       "1                                                  0                 \n",
       "2                                                  1                 \n",
       "3                                                 18                 \n",
       "4                                                 10                 \n",
       "\n",
       "   hospital_onset_covid  hospital_onset_covid_coverage  ...  \\\n",
       "0                   0.0                              2  ...   \n",
       "1                   0.0                              2  ...   \n",
       "2                   0.0                             16  ...   \n",
       "3                   1.0                             59  ...   \n",
       "4                   1.0                             17  ...   \n",
       "\n",
       "   previous_day_admission_influenza_confirmed  \\\n",
       "0                                         NaN   \n",
       "1                                         NaN   \n",
       "2                                         NaN   \n",
       "3                                         NaN   \n",
       "4                                         NaN   \n",
       "\n",
       "   previous_day_admission_influenza_confirmed_coverage  \\\n",
       "0                                                  0     \n",
       "1                                                  0     \n",
       "2                                                  0     \n",
       "3                                                  0     \n",
       "4                                                  0     \n",
       "\n",
       "   previous_day_deaths_covid_and_influenza  \\\n",
       "0                                      NaN   \n",
       "1                                      NaN   \n",
       "2                                      NaN   \n",
       "3                                      NaN   \n",
       "4                                      NaN   \n",
       "\n",
       "   previous_day_deaths_covid_and_influenza_coverage  \\\n",
       "0                                                 0   \n",
       "1                                                 0   \n",
       "2                                                 0   \n",
       "3                                                 0   \n",
       "4                                                 0   \n",
       "\n",
       "   previous_day_deaths_influenza  previous_day_deaths_influenza_coverage  \\\n",
       "0                            NaN                                       0   \n",
       "1                            NaN                                       0   \n",
       "2                            NaN                                       0   \n",
       "3                            NaN                                       0   \n",
       "4                            NaN                                       0   \n",
       "\n",
       "   total_patients_hospitalized_confirmed_influenza  \\\n",
       "0                                              NaN   \n",
       "1                                              NaN   \n",
       "2                                              NaN   \n",
       "3                                              NaN   \n",
       "4                                              NaN   \n",
       "\n",
       "   total_patients_hospitalized_confirmed_influenza_and_covid  \\\n",
       "0                                                NaN           \n",
       "1                                                NaN           \n",
       "2                                                NaN           \n",
       "3                                                NaN           \n",
       "4                                                NaN           \n",
       "\n",
       "   total_patients_hospitalized_confirmed_influenza_and_covid_coverage  \\\n",
       "0                                                  0                    \n",
       "1                                                  0                    \n",
       "2                                                  0                    \n",
       "3                                                  0                    \n",
       "4                                                  0                    \n",
       "\n",
       "   total_patients_hospitalized_confirmed_influenza_coverage  \n",
       "0                                                  0         \n",
       "1                                                  0         \n",
       "2                                                  0         \n",
       "3                                                  0         \n",
       "4                                                  0         \n",
       "\n",
       "[5 rows x 117 columns]"
      ]
     },
     "execution_count": 97,
     "metadata": {},
     "output_type": "execute_result"
    }
   ],
   "source": [
    "df_utlization.head()"
   ]
  },
  {
   "cell_type": "code",
   "execution_count": 102,
   "id": "8760ec87",
   "metadata": {},
   "outputs": [],
   "source": [
    "df_epidemiology_utilization_usa_states = df_epidemiology_usa_states_cases.merge(\n",
    "    df_utlization, left_on=[\"date\", \"state\"], right_on=[\"date\", \"state\"], how='inner')"
   ]
  },
  {
   "cell_type": "code",
   "execution_count": 105,
   "id": "b6130339",
   "metadata": {},
   "outputs": [],
   "source": [
    "df_epidemiology_utilization_usa_states = df_epidemiology_utilization_usa_states [\n",
    "    [\"date\", \"state\", \"new_confirmed\", \"inpatient_beds_utilization\"]]"
   ]
  },
  {
   "cell_type": "code",
   "execution_count": 112,
   "id": "2d76751d",
   "metadata": {},
   "outputs": [
    {
     "data": {
      "text/html": [
       "<div>\n",
       "<style scoped>\n",
       "    .dataframe tbody tr th:only-of-type {\n",
       "        vertical-align: middle;\n",
       "    }\n",
       "\n",
       "    .dataframe tbody tr th {\n",
       "        vertical-align: top;\n",
       "    }\n",
       "\n",
       "    .dataframe thead th {\n",
       "        text-align: right;\n",
       "    }\n",
       "</style>\n",
       "<table border=\"1\" class=\"dataframe\">\n",
       "  <thead>\n",
       "    <tr style=\"text-align: right;\">\n",
       "      <th></th>\n",
       "      <th>date</th>\n",
       "      <th>state</th>\n",
       "      <th>new_confirmed</th>\n",
       "      <th>inpatient_beds_utilization</th>\n",
       "    </tr>\n",
       "  </thead>\n",
       "  <tbody>\n",
       "    <tr>\n",
       "      <th>0</th>\n",
       "      <td>2020-03-23</td>\n",
       "      <td>AK</td>\n",
       "      <td>4.0</td>\n",
       "      <td>0.375000</td>\n",
       "    </tr>\n",
       "    <tr>\n",
       "      <th>1</th>\n",
       "      <td>2020-03-24</td>\n",
       "      <td>AK</td>\n",
       "      <td>7.0</td>\n",
       "      <td>0.357143</td>\n",
       "    </tr>\n",
       "    <tr>\n",
       "      <th>2</th>\n",
       "      <td>2020-03-25</td>\n",
       "      <td>AK</td>\n",
       "      <td>14.0</td>\n",
       "      <td>0.267857</td>\n",
       "    </tr>\n",
       "    <tr>\n",
       "      <th>3</th>\n",
       "      <td>2020-03-26</td>\n",
       "      <td>AK</td>\n",
       "      <td>11.0</td>\n",
       "      <td>0.285714</td>\n",
       "    </tr>\n",
       "    <tr>\n",
       "      <th>4</th>\n",
       "      <td>2020-03-27</td>\n",
       "      <td>AK</td>\n",
       "      <td>17.0</td>\n",
       "      <td>0.283951</td>\n",
       "    </tr>\n",
       "    <tr>\n",
       "      <th>...</th>\n",
       "      <td>...</td>\n",
       "      <td>...</td>\n",
       "      <td>...</td>\n",
       "      <td>...</td>\n",
       "    </tr>\n",
       "    <tr>\n",
       "      <th>40987</th>\n",
       "      <td>2022-04-03</td>\n",
       "      <td>WY</td>\n",
       "      <td>0.0</td>\n",
       "      <td>0.414620</td>\n",
       "    </tr>\n",
       "    <tr>\n",
       "      <th>40988</th>\n",
       "      <td>2022-04-04</td>\n",
       "      <td>WY</td>\n",
       "      <td>0.0</td>\n",
       "      <td>0.410863</td>\n",
       "    </tr>\n",
       "    <tr>\n",
       "      <th>40989</th>\n",
       "      <td>2022-04-05</td>\n",
       "      <td>WY</td>\n",
       "      <td>97.0</td>\n",
       "      <td>0.454313</td>\n",
       "    </tr>\n",
       "    <tr>\n",
       "      <th>40990</th>\n",
       "      <td>2022-04-06</td>\n",
       "      <td>WY</td>\n",
       "      <td>0.0</td>\n",
       "      <td>0.453300</td>\n",
       "    </tr>\n",
       "    <tr>\n",
       "      <th>40991</th>\n",
       "      <td>2022-04-07</td>\n",
       "      <td>WY</td>\n",
       "      <td>0.0</td>\n",
       "      <td>0.453300</td>\n",
       "    </tr>\n",
       "  </tbody>\n",
       "</table>\n",
       "<p>40992 rows × 4 columns</p>\n",
       "</div>"
      ],
      "text/plain": [
       "             date state  new_confirmed  inpatient_beds_utilization\n",
       "0      2020-03-23    AK            4.0                    0.375000\n",
       "1      2020-03-24    AK            7.0                    0.357143\n",
       "2      2020-03-25    AK           14.0                    0.267857\n",
       "3      2020-03-26    AK           11.0                    0.285714\n",
       "4      2020-03-27    AK           17.0                    0.283951\n",
       "...           ...   ...            ...                         ...\n",
       "40987  2022-04-03    WY            0.0                    0.414620\n",
       "40988  2022-04-04    WY            0.0                    0.410863\n",
       "40989  2022-04-05    WY           97.0                    0.454313\n",
       "40990  2022-04-06    WY            0.0                    0.453300\n",
       "40991  2022-04-07    WY            0.0                    0.453300\n",
       "\n",
       "[40992 rows x 4 columns]"
      ]
     },
     "execution_count": 112,
     "metadata": {},
     "output_type": "execute_result"
    }
   ],
   "source": [
    "df_epidemiology_utilization_usa_states"
   ]
  },
  {
   "cell_type": "code",
   "execution_count": 107,
   "id": "40c30c45",
   "metadata": {},
   "outputs": [],
   "source": [
    "geography = pd.read_csv(\"../data/geography.csv\")"
   ]
  },
  {
   "cell_type": "code",
   "execution_count": 116,
   "id": "4952cb9a",
   "metadata": {},
   "outputs": [],
   "source": [
    "geography = geography[geography[\"location_key\"].str.contains('^US_[A-Z][A-Z]$', na=False)]\n",
    "geography[\"state\"] = geography[\"location_key\"].apply(lambda row: row.split(\"_\")[1])"
   ]
  },
  {
   "cell_type": "code",
   "execution_count": 117,
   "id": "68f5879f",
   "metadata": {},
   "outputs": [],
   "source": [
    "final_df = df_epidemiology_utilization_usa_states.merge(geography, left_on=\"state\", right_on=\"state\")"
   ]
  },
  {
   "cell_type": "code",
   "execution_count": 118,
   "id": "626df5ed",
   "metadata": {},
   "outputs": [],
   "source": [
    "final_df = final_df[[\"date\", \"state\", \"new_confirmed\", \"inpatient_beds_utilization\", \"latitude\", \"longitude\"]]"
   ]
  },
  {
   "cell_type": "code",
   "execution_count": 120,
   "id": "183637e9",
   "metadata": {},
   "outputs": [],
   "source": [
    "final_df.to_csv(\"../data/cases_hospital_bed_usa_statewise.csv\")"
   ]
  },
  {
   "cell_type": "markdown",
   "id": "1877566f",
   "metadata": {},
   "source": [
    "## Extracting dashboard data"
   ]
  },
  {
   "cell_type": "code",
   "execution_count": 59,
   "id": "ad996f55",
   "metadata": {},
   "outputs": [],
   "source": [
    "import pandas as pd\n",
    "from datetime import datetime"
   ]
  },
  {
   "cell_type": "code",
   "execution_count": 60,
   "id": "d2944da4",
   "metadata": {},
   "outputs": [],
   "source": [
    "df_utlization = pd.read_csv(\"../data/COVID-19_Reported_Patient_Impact_and_Hospital_Capacity_by_State_Timeseries.csv\")\n",
    "df_epidemiology = pd.read_csv(\"../data/world_epidemiology.csv\")"
   ]
  },
  {
   "cell_type": "code",
   "execution_count": 61,
   "id": "2bb1499d",
   "metadata": {},
   "outputs": [],
   "source": [
    "df_epidemiology_usa = df_epidemiology[df_epidemiology[\"location_key\"].str.contains('^US_[A-Z][A-Z]$', na=False)]"
   ]
  },
  {
   "cell_type": "code",
   "execution_count": 62,
   "id": "972b9b6d",
   "metadata": {},
   "outputs": [],
   "source": [
    "df_epidemiology_usa_states = df_epidemiology_usa[df_epidemiology_usa[\"location_key\"] != \"US\"]\n",
    "df_epidemiology_usa_states[\"state\"] = df_epidemiology_usa_states[\"location_key\"].apply(lambda row: row.split(\"_\")[1])"
   ]
  },
  {
   "cell_type": "code",
   "execution_count": 63,
   "id": "461ec32f",
   "metadata": {},
   "outputs": [
    {
     "name": "stderr",
     "output_type": "stream",
     "text": [
      "/var/folders/43/ns67_5ts7dxfqlbcgrf6x9f00000gn/T/ipykernel_60872/3831926896.py:4: SettingWithCopyWarning: \n",
      "A value is trying to be set on a copy of a slice from a DataFrame.\n",
      "Try using .loc[row_indexer,col_indexer] = value instead\n",
      "\n",
      "See the caveats in the documentation: https://pandas.pydata.org/pandas-docs/stable/user_guide/indexing.html#returning-a-view-versus-a-copy\n",
      "  df_epidemiology_usa_states_cases[\"date\"] = df_epidemiology_usa_states_cases[\"date\"].map(\n"
     ]
    }
   ],
   "source": [
    "df_epidemiology_usa_states_cases = df_epidemiology_usa_states[['date', 'state', 'location_key', \n",
    "                                                               'new_confirmed', 'new_deceased', 'new_tested',\n",
    "                                                              'cumulative_confirmed', 'cumulative_deceased']]\n",
    "df_epidemiology_usa_states_cases[\"date\"] = df_epidemiology_usa_states_cases[\"date\"].map(\n",
    "    lambda row: datetime.strptime(row, \"%Y-%m-%d\").date())"
   ]
  },
  {
   "cell_type": "code",
   "execution_count": 64,
   "id": "845bc1e8",
   "metadata": {},
   "outputs": [],
   "source": [
    "df_utlization[\"date\"] = df_utlization[\"date\"].map(lambda row: datetime.strptime(row, \"%Y/%m/%d\").date())\n"
   ]
  },
  {
   "cell_type": "code",
   "execution_count": 65,
   "id": "5878816f",
   "metadata": {},
   "outputs": [],
   "source": [
    "df_utlization = df_utlization[[\"state\", \"date\", \"critical_staffing_shortage_today_yes\", \"inpatient_beds_utilization\", \n",
    "                               \"percent_of_inpatients_with_covid\", \"adult_icu_bed_utilization\", \n",
    "                               \"adult_icu_bed_covid_utilization\", \"inpatient_beds\", \"inpatient_beds_used\", \n",
    "                               \"inpatient_beds_used_covid\", \"staffed_adult_icu_bed_occupancy\", \n",
    "                               \"staffed_icu_adult_patients_confirmed_and_suspected_covid\", \n",
    "                              \"total_staffed_adult_icu_beds\"]]"
   ]
  },
  {
   "cell_type": "code",
   "execution_count": 66,
   "id": "d72872f8",
   "metadata": {},
   "outputs": [],
   "source": [
    "final_df = df_epidemiology_usa_states_cases.merge(df_utlization, \n",
    "                                                  left_on=[\"date\", \"state\"], right_on=[\"date\", \"state\"], how='inner')"
   ]
  },
  {
   "cell_type": "code",
   "execution_count": 67,
   "id": "b38a2b5f",
   "metadata": {},
   "outputs": [],
   "source": [
    "final_df.to_csv(\"dashboard_metrics.csv\")"
   ]
  },
  {
   "cell_type": "markdown",
   "id": "471e0188",
   "metadata": {},
   "source": [
    "## Data for minimum values of metrics for dashboard"
   ]
  },
  {
   "cell_type": "code",
   "execution_count": 48,
   "id": "4481cf50",
   "metadata": {},
   "outputs": [],
   "source": [
    "import pandas as pd\n",
    "from datetime import datetime"
   ]
  },
  {
   "cell_type": "code",
   "execution_count": 49,
   "id": "a60d7670",
   "metadata": {},
   "outputs": [],
   "source": [
    "df_utilization = pd.read_csv(\"../data/COVID-19_Reported_Patient_Impact_and_Hospital_Capacity_by_State_Timeseries.csv\")\n",
    "df_utilization[\"date\"] = df_utilization[\"date\"].map(lambda row: datetime.strptime(row, \"%Y/%m/%d\").date())\n",
    "df_utilization = df_utilization[[\"state\", \"date\", \"critical_staffing_shortage_today_yes\", \n",
    "                                 \"inpatient_beds_utilization\", \n",
    "                               \"percent_of_inpatients_with_covid\", \"adult_icu_bed_utilization\", \n",
    "                               \"adult_icu_bed_covid_utilization\", \"inpatient_beds\"]]\n"
   ]
  },
  {
   "cell_type": "code",
   "execution_count": 50,
   "id": "90fba0a3",
   "metadata": {},
   "outputs": [],
   "source": [
    "df_utilization_groupby = df_utilization.groupby(by=[\"state\", \"date\"], as_index=False).sum()"
   ]
  },
  {
   "cell_type": "code",
   "execution_count": 51,
   "id": "12d3c9ca",
   "metadata": {},
   "outputs": [],
   "source": [
    "unique_states = set(df_utilization_groupby[\"state\"])"
   ]
  },
  {
   "cell_type": "code",
   "execution_count": 52,
   "id": "c8498a95",
   "metadata": {},
   "outputs": [],
   "source": [
    "df = pd.DataFrame(columns=[\"state\", \"date\", \"critical_staffing_shortage_today_yes\", \"inpatient_beds_utilization\", \n",
    "                               \"percent_of_inpatients_with_covid\", \"adult_icu_bed_utilization\", \n",
    "                               \"adult_icu_bed_covid_utilization\", \"inpatient_beds\"])"
   ]
  },
  {
   "cell_type": "code",
   "execution_count": 53,
   "id": "dfc3751b",
   "metadata": {},
   "outputs": [
    {
     "name": "stderr",
     "output_type": "stream",
     "text": [
      "/var/folders/43/ns67_5ts7dxfqlbcgrf6x9f00000gn/T/ipykernel_60872/2481651018.py:3: SettingWithCopyWarning: \n",
      "A value is trying to be set on a copy of a slice from a DataFrame\n",
      "\n",
      "See the caveats in the documentation: https://pandas.pydata.org/pandas-docs/stable/user_guide/indexing.html#returning-a-view-versus-a-copy\n",
      "  df_state.dropna(inplace=True)\n",
      "/var/folders/43/ns67_5ts7dxfqlbcgrf6x9f00000gn/T/ipykernel_60872/2481651018.py:4: FutureWarning: The frame.append method is deprecated and will be removed from pandas in a future version. Use pandas.concat instead.\n",
      "  df = df.append(df_state[df_state[\"date\"] == df_state[\"date\"].min()], ignore_index = True)\n"
     ]
    }
   ],
   "source": [
    "\n",
    "for state in unique_states:\n",
    "    df_state = df_utilization_groupby[df_utilization_groupby[\"state\"]==state]\n",
    "    df_state.dropna(inplace=True)\n",
    "    df = df.append(df_state[df_state[\"date\"] == df_state[\"date\"].min()], ignore_index = True)\n",
    "    \n",
    "    "
   ]
  },
  {
   "cell_type": "code",
   "execution_count": 54,
   "id": "2c887bc6",
   "metadata": {},
   "outputs": [],
   "source": [
    "df.to_csv(\"baseline_dashboard_metrics.csv\")"
   ]
  },
  {
   "cell_type": "code",
   "execution_count": null,
   "id": "76864c2d",
   "metadata": {},
   "outputs": [],
   "source": []
  },
  {
   "cell_type": "code",
   "execution_count": 55,
   "id": "4c224098",
   "metadata": {},
   "outputs": [],
   "source": [
    "df_utilization = pd.read_csv(\"../data/COVID-19_Reported_Patient_Impact_and_Hospital_Capacity_by_State_Timeseries.csv\")"
   ]
  },
  {
   "cell_type": "code",
   "execution_count": 58,
   "id": "1f29dd04",
   "metadata": {},
   "outputs": [
    {
     "data": {
      "text/html": [
       "<div>\n",
       "<style scoped>\n",
       "    .dataframe tbody tr th:only-of-type {\n",
       "        vertical-align: middle;\n",
       "    }\n",
       "\n",
       "    .dataframe tbody tr th {\n",
       "        vertical-align: top;\n",
       "    }\n",
       "\n",
       "    .dataframe thead th {\n",
       "        text-align: right;\n",
       "    }\n",
       "</style>\n",
       "<table border=\"1\" class=\"dataframe\">\n",
       "  <thead>\n",
       "    <tr style=\"text-align: right;\">\n",
       "      <th></th>\n",
       "      <th>state</th>\n",
       "      <th>date</th>\n",
       "      <th>critical_staffing_shortage_today_yes</th>\n",
       "      <th>critical_staffing_shortage_today_no</th>\n",
       "      <th>critical_staffing_shortage_today_not_reported</th>\n",
       "      <th>critical_staffing_shortage_anticipated_within_week_yes</th>\n",
       "      <th>critical_staffing_shortage_anticipated_within_week_no</th>\n",
       "      <th>critical_staffing_shortage_anticipated_within_week_not_reported</th>\n",
       "      <th>hospital_onset_covid</th>\n",
       "      <th>hospital_onset_covid_coverage</th>\n",
       "      <th>...</th>\n",
       "      <th>previous_day_admission_influenza_confirmed</th>\n",
       "      <th>previous_day_admission_influenza_confirmed_coverage</th>\n",
       "      <th>previous_day_deaths_covid_and_influenza</th>\n",
       "      <th>previous_day_deaths_covid_and_influenza_coverage</th>\n",
       "      <th>previous_day_deaths_influenza</th>\n",
       "      <th>previous_day_deaths_influenza_coverage</th>\n",
       "      <th>total_patients_hospitalized_confirmed_influenza</th>\n",
       "      <th>total_patients_hospitalized_confirmed_influenza_and_covid</th>\n",
       "      <th>total_patients_hospitalized_confirmed_influenza_and_covid_coverage</th>\n",
       "      <th>total_patients_hospitalized_confirmed_influenza_coverage</th>\n",
       "    </tr>\n",
       "  </thead>\n",
       "  <tbody>\n",
       "    <tr>\n",
       "      <th>8342</th>\n",
       "      <td>LA</td>\n",
       "      <td>2020/07/15</td>\n",
       "      <td>0</td>\n",
       "      <td>4</td>\n",
       "      <td>190</td>\n",
       "      <td>1</td>\n",
       "      <td>3</td>\n",
       "      <td>190</td>\n",
       "      <td>0.0</td>\n",
       "      <td>9</td>\n",
       "      <td>...</td>\n",
       "      <td>NaN</td>\n",
       "      <td>0</td>\n",
       "      <td>NaN</td>\n",
       "      <td>0</td>\n",
       "      <td>NaN</td>\n",
       "      <td>0</td>\n",
       "      <td>NaN</td>\n",
       "      <td>NaN</td>\n",
       "      <td>0</td>\n",
       "      <td>0</td>\n",
       "    </tr>\n",
       "  </tbody>\n",
       "</table>\n",
       "<p>1 rows × 117 columns</p>\n",
       "</div>"
      ],
      "text/plain": [
       "     state        date  critical_staffing_shortage_today_yes  \\\n",
       "8342    LA  2020/07/15                                     0   \n",
       "\n",
       "      critical_staffing_shortage_today_no  \\\n",
       "8342                                    4   \n",
       "\n",
       "      critical_staffing_shortage_today_not_reported  \\\n",
       "8342                                            190   \n",
       "\n",
       "      critical_staffing_shortage_anticipated_within_week_yes  \\\n",
       "8342                                                  1        \n",
       "\n",
       "      critical_staffing_shortage_anticipated_within_week_no  \\\n",
       "8342                                                  3       \n",
       "\n",
       "      critical_staffing_shortage_anticipated_within_week_not_reported  \\\n",
       "8342                                                190                 \n",
       "\n",
       "      hospital_onset_covid  hospital_onset_covid_coverage  ...  \\\n",
       "8342                   0.0                              9  ...   \n",
       "\n",
       "      previous_day_admission_influenza_confirmed  \\\n",
       "8342                                         NaN   \n",
       "\n",
       "      previous_day_admission_influenza_confirmed_coverage  \\\n",
       "8342                                                  0     \n",
       "\n",
       "      previous_day_deaths_covid_and_influenza  \\\n",
       "8342                                      NaN   \n",
       "\n",
       "      previous_day_deaths_covid_and_influenza_coverage  \\\n",
       "8342                                                 0   \n",
       "\n",
       "      previous_day_deaths_influenza  previous_day_deaths_influenza_coverage  \\\n",
       "8342                            NaN                                       0   \n",
       "\n",
       "      total_patients_hospitalized_confirmed_influenza  \\\n",
       "8342                                              NaN   \n",
       "\n",
       "      total_patients_hospitalized_confirmed_influenza_and_covid  \\\n",
       "8342                                                NaN           \n",
       "\n",
       "      total_patients_hospitalized_confirmed_influenza_and_covid_coverage  \\\n",
       "8342                                                  0                    \n",
       "\n",
       "      total_patients_hospitalized_confirmed_influenza_coverage  \n",
       "8342                                                  0         \n",
       "\n",
       "[1 rows x 117 columns]"
      ]
     },
     "execution_count": 58,
     "metadata": {},
     "output_type": "execute_result"
    }
   ],
   "source": [
    "df_utilization[df_utilization[\"inpatient_beds_utilization\"] == df_utilization[\"inpatient_beds_utilization\"].max()]"
   ]
  },
  {
   "cell_type": "markdown",
   "id": "f98b9417",
   "metadata": {},
   "source": [
    "## Data for test result duration"
   ]
  },
  {
   "cell_type": "code",
   "execution_count": 37,
   "id": "1c9f0009",
   "metadata": {},
   "outputs": [],
   "source": [
    "import pandas as pd\n",
    "from datetime import datetime"
   ]
  },
  {
   "cell_type": "code",
   "execution_count": 38,
   "id": "31398efe",
   "metadata": {},
   "outputs": [],
   "source": [
    "df_result_timing = pd.read_csv(\"../data/COVID-19_Diagnostic_Laboratory_Testing__PCR_Testing__Time_Series.csv\")"
   ]
  },
  {
   "cell_type": "code",
   "execution_count": 39,
   "id": "d6aa4d2f",
   "metadata": {},
   "outputs": [],
   "source": [
    "df_result_timing = df_result_timing[[\"state\", \"date\", \"new_results_reported\"]]"
   ]
  },
  {
   "cell_type": "code",
   "execution_count": 40,
   "id": "b9e0963c",
   "metadata": {},
   "outputs": [],
   "source": [
    "df_result_timing = df_result_timing.groupby([\"state\", \"date\"], as_index=False).sum()"
   ]
  },
  {
   "cell_type": "code",
   "execution_count": 41,
   "id": "44a00e50",
   "metadata": {},
   "outputs": [],
   "source": [
    "df_result_timing[\"date\"] = df_result_timing[\"date\"].map(lambda row: datetime.strptime(row, \"%Y/%m/%d\").date())"
   ]
  },
  {
   "cell_type": "code",
   "execution_count": 42,
   "id": "d3a546ff",
   "metadata": {},
   "outputs": [
    {
     "data": {
      "text/html": [
       "<div>\n",
       "<style scoped>\n",
       "    .dataframe tbody tr th:only-of-type {\n",
       "        vertical-align: middle;\n",
       "    }\n",
       "\n",
       "    .dataframe tbody tr th {\n",
       "        vertical-align: top;\n",
       "    }\n",
       "\n",
       "    .dataframe thead th {\n",
       "        text-align: right;\n",
       "    }\n",
       "</style>\n",
       "<table border=\"1\" class=\"dataframe\">\n",
       "  <thead>\n",
       "    <tr style=\"text-align: right;\">\n",
       "      <th></th>\n",
       "      <th>state</th>\n",
       "      <th>date</th>\n",
       "      <th>new_results_reported</th>\n",
       "    </tr>\n",
       "  </thead>\n",
       "  <tbody>\n",
       "    <tr>\n",
       "      <th>0</th>\n",
       "      <td>AK</td>\n",
       "      <td>2020-03-01</td>\n",
       "      <td>4</td>\n",
       "    </tr>\n",
       "    <tr>\n",
       "      <th>1</th>\n",
       "      <td>AK</td>\n",
       "      <td>2020-03-02</td>\n",
       "      <td>0</td>\n",
       "    </tr>\n",
       "    <tr>\n",
       "      <th>2</th>\n",
       "      <td>AK</td>\n",
       "      <td>2020-03-03</td>\n",
       "      <td>2</td>\n",
       "    </tr>\n",
       "    <tr>\n",
       "      <th>3</th>\n",
       "      <td>AK</td>\n",
       "      <td>2020-03-04</td>\n",
       "      <td>12</td>\n",
       "    </tr>\n",
       "    <tr>\n",
       "      <th>4</th>\n",
       "      <td>AK</td>\n",
       "      <td>2020-03-05</td>\n",
       "      <td>9</td>\n",
       "    </tr>\n",
       "  </tbody>\n",
       "</table>\n",
       "</div>"
      ],
      "text/plain": [
       "  state        date  new_results_reported\n",
       "0    AK  2020-03-01                     4\n",
       "1    AK  2020-03-02                     0\n",
       "2    AK  2020-03-03                     2\n",
       "3    AK  2020-03-04                    12\n",
       "4    AK  2020-03-05                     9"
      ]
     },
     "execution_count": 42,
     "metadata": {},
     "output_type": "execute_result"
    }
   ],
   "source": [
    "df_result_timing.head()"
   ]
  },
  {
   "cell_type": "code",
   "execution_count": 150,
   "id": "37bd061c",
   "metadata": {},
   "outputs": [],
   "source": [
    "df_epidemiology = pd.read_csv(\"../data/world_epidemiology.csv\")\n",
    "df_epidemiology_usa = df_epidemiology[df_epidemiology[\"location_key\"].str.contains('^US_[A-Z][A-Z]$', na=False)]\n",
    "df_epidemiology_usa_states[\"state\"] = df_epidemiology_usa_states[\"location_key\"].apply(lambda row: row.split(\"_\")[1])\n"
   ]
  },
  {
   "cell_type": "code",
   "execution_count": 151,
   "id": "cefd729e",
   "metadata": {},
   "outputs": [],
   "source": [
    "df_epidemiology_usa_states_tests = df_epidemiology_usa_states[['date', 'state', 'location_key', 'new_tested']]"
   ]
  },
  {
   "cell_type": "code",
   "execution_count": 152,
   "id": "9a27ef78",
   "metadata": {},
   "outputs": [
    {
     "data": {
      "text/plain": [
       "[<matplotlib.lines.Line2D at 0x7fc3527723a0>]"
      ]
     },
     "execution_count": 152,
     "metadata": {},
     "output_type": "execute_result"
    },
    {
     "data": {
      "image/png": "[encoded data removed]",
      "text/plain": [
       "<Figure size 432x288 with 1 Axes>"
      ]
     },
     "metadata": {
      "needs_background": "light"
     },
     "output_type": "display_data"
    }
   ],
   "source": [
    "import matplotlib.pyplot as plt\n",
    "df_epidemiology_usa_states_tests_NY = df_epidemiology_usa_states_tests[\n",
    "    df_epidemiology_usa_states_tests[\"state\"]==\"NY\"]\n",
    "df_epidemiology_usa_states_tests_NY = df_epidemiology_usa_states_tests_NY[[\"date\", \"new_tested\"]]\n",
    "plt.plot(df_epidemiology_usa_states_tests_NY[\"date\"], df_epidemiology_usa_states_tests_NY[\"new_tested\"])"
   ]
  },
  {
   "cell_type": "code",
   "execution_count": 140,
   "id": "39de5d3b",
   "metadata": {},
   "outputs": [
    {
     "name": "stderr",
     "output_type": "stream",
     "text": [
      "/var/folders/43/ns67_5ts7dxfqlbcgrf6x9f00000gn/T/ipykernel_60872/2614529380.py:1: SettingWithCopyWarning: \n",
      "A value is trying to be set on a copy of a slice from a DataFrame\n",
      "\n",
      "See the caveats in the documentation: https://pandas.pydata.org/pandas-docs/stable/user_guide/indexing.html#returning-a-view-versus-a-copy\n",
      "  df_epidemiology_usa_states_tests.fillna(0, inplace=True)\n"
     ]
    }
   ],
   "source": [
    "df_epidemiology_usa_states_tests.fillna(0, inplace=True)"
   ]
  },
  {
   "cell_type": "code",
   "execution_count": 153,
   "id": "621d0b08",
   "metadata": {},
   "outputs": [],
   "source": [
    "df_epidemiology_usa_states_tests = df_epidemiology_usa_states_tests[[\"date\", \"state\", \"new_tested\"]]\n"
   ]
  },
  {
   "cell_type": "code",
   "execution_count": 154,
   "id": "fd4552b9",
   "metadata": {},
   "outputs": [],
   "source": [
    "df_epidemiology_usa_states_tests[\"date\"] = df_epidemiology_usa_states_tests[\"date\"].map(\n",
    "    lambda row: datetime.strptime(row, \"%Y-%m-%d\").date())"
   ]
  },
  {
   "cell_type": "code",
   "execution_count": 155,
   "id": "8d61c33a",
   "metadata": {},
   "outputs": [],
   "source": []
  },
  {
   "cell_type": "code",
   "execution_count": 68,
   "id": "76641685",
   "metadata": {},
   "outputs": [],
   "source": [
    "df_testing = pd.read_csv(\"../data/testing_timeseries.csv\")"
   ]
  },
  {
   "cell_type": "code",
   "execution_count": 69,
   "id": "a4a6b03f",
   "metadata": {},
   "outputs": [],
   "source": [
    "df_testing = df_testing[[\"date\", \"state\", \"tests_combined_total\"]]\n",
    "df_testing[\"date\"] = df_testing[\"date\"].map(\n",
    "    lambda row: datetime.strptime(row, \"%m/%d/%Y\").date())\n",
    "\n",
    "# df_testing_NY = df_testing[df_testing[\"state\"]==\"NY\"]\n",
    "# df_testing_OH = df_testing[df_testing[\"state\"]==\"OH\"]\n",
    "# df_testing_UT = df_testing[df_testing[\"state\"]==\"UT\"]\n",
    "# df_testing_CA = df_testing[df_testing[\"state\"]==\"CA\"]\n",
    "# df_testing_NY[\"new_tested\"] = df_testing_NY[\"tests_combined_total\"].diff(periods=1)\n",
    "# df_testing_OH[\"new_tested\"] = df_testing_OH[\"tests_combined_total\"].diff(periods=1)\n",
    "# df_testing_UT[\"new_tested\"] = df_testing_UT[\"tests_combined_total\"].diff(periods=1)\n",
    "# df_testing_CA[\"new_tested\"] = df_testing_CA[\"tests_combined_total\"].diff(periods=1)\n",
    "\n",
    "# df_testing[\"new_tested\"] = df_testing[\"tests_combined_total\"].diff(periods=1)"
   ]
  },
  {
   "cell_type": "code",
   "execution_count": 74,
   "id": "1731b324",
   "metadata": {},
   "outputs": [],
   "source": [
    "df_testing.sort_values(['state', 'date'], inplace=True)"
   ]
  },
  {
   "cell_type": "code",
   "execution_count": 76,
   "id": "d60cb5ee",
   "metadata": {},
   "outputs": [],
   "source": [
    "df_testing['new_tested'] = df_testing.groupby('state')['tests_combined_total'].diff(periods=1)"
   ]
  },
  {
   "cell_type": "code",
   "execution_count": 78,
   "id": "5a9dbce0",
   "metadata": {},
   "outputs": [],
   "source": [
    "df_testing.fillna(0,inplace=True)"
   ]
  },
  {
   "cell_type": "code",
   "execution_count": 79,
   "id": "93cbfdfe",
   "metadata": {},
   "outputs": [],
   "source": [
    "df_testing = df_testing[[\"date\", \"state\", \"new_tested\"]]"
   ]
  },
  {
   "cell_type": "code",
   "execution_count": 80,
   "id": "565f992f",
   "metadata": {},
   "outputs": [],
   "source": [
    "df_testing = df_testing[df_testing[\"new_tested\"]>0]"
   ]
  },
  {
   "cell_type": "code",
   "execution_count": 81,
   "id": "c423fcb4",
   "metadata": {},
   "outputs": [
    {
     "data": {
      "text/html": [
       "<div>\n",
       "<style scoped>\n",
       "    .dataframe tbody tr th:only-of-type {\n",
       "        vertical-align: middle;\n",
       "    }\n",
       "\n",
       "    .dataframe tbody tr th {\n",
       "        vertical-align: top;\n",
       "    }\n",
       "\n",
       "    .dataframe thead th {\n",
       "        text-align: right;\n",
       "    }\n",
       "</style>\n",
       "<table border=\"1\" class=\"dataframe\">\n",
       "  <thead>\n",
       "    <tr style=\"text-align: right;\">\n",
       "      <th></th>\n",
       "      <th>state</th>\n",
       "      <th>date</th>\n",
       "      <th>new_results_reported</th>\n",
       "    </tr>\n",
       "  </thead>\n",
       "  <tbody>\n",
       "    <tr>\n",
       "      <th>0</th>\n",
       "      <td>AK</td>\n",
       "      <td>2020-03-01</td>\n",
       "      <td>4</td>\n",
       "    </tr>\n",
       "    <tr>\n",
       "      <th>1</th>\n",
       "      <td>AK</td>\n",
       "      <td>2020-03-02</td>\n",
       "      <td>0</td>\n",
       "    </tr>\n",
       "    <tr>\n",
       "      <th>2</th>\n",
       "      <td>AK</td>\n",
       "      <td>2020-03-03</td>\n",
       "      <td>2</td>\n",
       "    </tr>\n",
       "    <tr>\n",
       "      <th>3</th>\n",
       "      <td>AK</td>\n",
       "      <td>2020-03-04</td>\n",
       "      <td>12</td>\n",
       "    </tr>\n",
       "    <tr>\n",
       "      <th>4</th>\n",
       "      <td>AK</td>\n",
       "      <td>2020-03-05</td>\n",
       "      <td>9</td>\n",
       "    </tr>\n",
       "    <tr>\n",
       "      <th>...</th>\n",
       "      <td>...</td>\n",
       "      <td>...</td>\n",
       "      <td>...</td>\n",
       "    </tr>\n",
       "    <tr>\n",
       "      <th>42458</th>\n",
       "      <td>WY</td>\n",
       "      <td>2022-04-04</td>\n",
       "      <td>445</td>\n",
       "    </tr>\n",
       "    <tr>\n",
       "      <th>42459</th>\n",
       "      <td>WY</td>\n",
       "      <td>2022-04-05</td>\n",
       "      <td>888</td>\n",
       "    </tr>\n",
       "    <tr>\n",
       "      <th>42460</th>\n",
       "      <td>WY</td>\n",
       "      <td>2022-04-06</td>\n",
       "      <td>898</td>\n",
       "    </tr>\n",
       "    <tr>\n",
       "      <th>42461</th>\n",
       "      <td>WY</td>\n",
       "      <td>2022-04-07</td>\n",
       "      <td>694</td>\n",
       "    </tr>\n",
       "    <tr>\n",
       "      <th>42462</th>\n",
       "      <td>WY</td>\n",
       "      <td>2022-04-08</td>\n",
       "      <td>326</td>\n",
       "    </tr>\n",
       "  </tbody>\n",
       "</table>\n",
       "<p>42463 rows × 3 columns</p>\n",
       "</div>"
      ],
      "text/plain": [
       "      state        date  new_results_reported\n",
       "0        AK  2020-03-01                     4\n",
       "1        AK  2020-03-02                     0\n",
       "2        AK  2020-03-03                     2\n",
       "3        AK  2020-03-04                    12\n",
       "4        AK  2020-03-05                     9\n",
       "...     ...         ...                   ...\n",
       "42458    WY  2022-04-04                   445\n",
       "42459    WY  2022-04-05                   888\n",
       "42460    WY  2022-04-06                   898\n",
       "42461    WY  2022-04-07                   694\n",
       "42462    WY  2022-04-08                   326\n",
       "\n",
       "[42463 rows x 3 columns]"
      ]
     },
     "execution_count": 81,
     "metadata": {},
     "output_type": "execute_result"
    }
   ],
   "source": [
    "df_result_timing"
   ]
  },
  {
   "cell_type": "code",
   "execution_count": 82,
   "id": "be134082",
   "metadata": {},
   "outputs": [],
   "source": [
    "final_df = df_result_timing.merge(df_testing,left_on=[\"date\", \"state\"], \n",
    "                          right_on=[\"date\", \"state\"], how='inner' )"
   ]
  },
  {
   "cell_type": "code",
   "execution_count": 85,
   "id": "9901fc2c",
   "metadata": {},
   "outputs": [],
   "source": [
    "final_df.to_csv(\"testing_results.csv\")"
   ]
  },
  {
   "cell_type": "code",
   "execution_count": 83,
   "id": "1067eaad",
   "metadata": {},
   "outputs": [
    {
     "data": {
      "text/html": [
       "<div>\n",
       "<style scoped>\n",
       "    .dataframe tbody tr th:only-of-type {\n",
       "        vertical-align: middle;\n",
       "    }\n",
       "\n",
       "    .dataframe tbody tr th {\n",
       "        vertical-align: top;\n",
       "    }\n",
       "\n",
       "    .dataframe thead th {\n",
       "        text-align: right;\n",
       "    }\n",
       "</style>\n",
       "<table border=\"1\" class=\"dataframe\">\n",
       "  <thead>\n",
       "    <tr style=\"text-align: right;\">\n",
       "      <th></th>\n",
       "      <th>state</th>\n",
       "      <th>date</th>\n",
       "      <th>new_results_reported</th>\n",
       "      <th>new_tested</th>\n",
       "    </tr>\n",
       "  </thead>\n",
       "  <tbody>\n",
       "    <tr>\n",
       "      <th>0</th>\n",
       "      <td>AK</td>\n",
       "      <td>2020-03-07</td>\n",
       "      <td>10</td>\n",
       "      <td>5.0</td>\n",
       "    </tr>\n",
       "    <tr>\n",
       "      <th>1</th>\n",
       "      <td>AK</td>\n",
       "      <td>2020-03-08</td>\n",
       "      <td>8</td>\n",
       "      <td>8.0</td>\n",
       "    </tr>\n",
       "    <tr>\n",
       "      <th>2</th>\n",
       "      <td>AK</td>\n",
       "      <td>2020-03-09</td>\n",
       "      <td>19</td>\n",
       "      <td>19.0</td>\n",
       "    </tr>\n",
       "    <tr>\n",
       "      <th>3</th>\n",
       "      <td>AK</td>\n",
       "      <td>2020-03-10</td>\n",
       "      <td>13</td>\n",
       "      <td>17.0</td>\n",
       "    </tr>\n",
       "    <tr>\n",
       "      <th>4</th>\n",
       "      <td>AK</td>\n",
       "      <td>2020-03-11</td>\n",
       "      <td>51</td>\n",
       "      <td>51.0</td>\n",
       "    </tr>\n",
       "    <tr>\n",
       "      <th>...</th>\n",
       "      <td>...</td>\n",
       "      <td>...</td>\n",
       "      <td>...</td>\n",
       "      <td>...</td>\n",
       "    </tr>\n",
       "    <tr>\n",
       "      <th>34829</th>\n",
       "      <td>WY</td>\n",
       "      <td>2022-03-28</td>\n",
       "      <td>456</td>\n",
       "      <td>3815.0</td>\n",
       "    </tr>\n",
       "    <tr>\n",
       "      <th>34830</th>\n",
       "      <td>WY</td>\n",
       "      <td>2022-03-29</td>\n",
       "      <td>696</td>\n",
       "      <td>2409.0</td>\n",
       "    </tr>\n",
       "    <tr>\n",
       "      <th>34831</th>\n",
       "      <td>WY</td>\n",
       "      <td>2022-04-01</td>\n",
       "      <td>867</td>\n",
       "      <td>2433.0</td>\n",
       "    </tr>\n",
       "    <tr>\n",
       "      <th>34832</th>\n",
       "      <td>WY</td>\n",
       "      <td>2022-04-05</td>\n",
       "      <td>888</td>\n",
       "      <td>2028.0</td>\n",
       "    </tr>\n",
       "    <tr>\n",
       "      <th>34833</th>\n",
       "      <td>WY</td>\n",
       "      <td>2022-04-08</td>\n",
       "      <td>326</td>\n",
       "      <td>2599.0</td>\n",
       "    </tr>\n",
       "  </tbody>\n",
       "</table>\n",
       "<p>34834 rows × 4 columns</p>\n",
       "</div>"
      ],
      "text/plain": [
       "      state        date  new_results_reported  new_tested\n",
       "0        AK  2020-03-07                    10         5.0\n",
       "1        AK  2020-03-08                     8         8.0\n",
       "2        AK  2020-03-09                    19        19.0\n",
       "3        AK  2020-03-10                    13        17.0\n",
       "4        AK  2020-03-11                    51        51.0\n",
       "...     ...         ...                   ...         ...\n",
       "34829    WY  2022-03-28                   456      3815.0\n",
       "34830    WY  2022-03-29                   696      2409.0\n",
       "34831    WY  2022-04-01                   867      2433.0\n",
       "34832    WY  2022-04-05                   888      2028.0\n",
       "34833    WY  2022-04-08                   326      2599.0\n",
       "\n",
       "[34834 rows x 4 columns]"
      ]
     },
     "execution_count": 83,
     "metadata": {},
     "output_type": "execute_result"
    }
   ],
   "source": [
    "final_df"
   ]
  },
  {
   "cell_type": "code",
   "execution_count": 84,
   "id": "45e730a0",
   "metadata": {},
   "outputs": [
    {
     "data": {
      "text/plain": [
       "[<matplotlib.lines.Line2D at 0x7fa60b4e96a0>]"
      ]
     },
     "execution_count": 84,
     "metadata": {},
     "output_type": "execute_result"
    },
    {
     "data": {
      "image/png": "[encoded data removed]",
      "text/plain": [
       "<Figure size 432x288 with 1 Axes>"
      ]
     },
     "metadata": {
      "needs_background": "light"
     },
     "output_type": "display_data"
    }
   ],
   "source": [
    "import matplotlib.pyplot as plt\n",
    "values = final_df[final_df[\"state\"]==\"NY\"][[\"new_tested\"]]\n",
    "plt.plot(values)"
   ]
  },
  {
   "cell_type": "markdown",
   "id": "904cd0d7",
   "metadata": {},
   "source": [
    "## Vaccination access"
   ]
  },
  {
   "cell_type": "code",
   "execution_count": 1,
   "id": "7afd5fad",
   "metadata": {},
   "outputs": [],
   "source": [
    "import pandas as pd\n",
    "from datetime import datetime"
   ]
  },
  {
   "cell_type": "code",
   "execution_count": 2,
   "id": "85d78169",
   "metadata": {},
   "outputs": [],
   "source": [
    "df_vaccination_access = pd.read_csv(\"../data/facility-boundary-us-all.csv\")"
   ]
  },
  {
   "cell_type": "code",
   "execution_count": 3,
   "id": "e15afe89",
   "metadata": {},
   "outputs": [
    {
     "data": {
      "text/html": [
       "<div>\n",
       "<style scoped>\n",
       "    .dataframe tbody tr th:only-of-type {\n",
       "        vertical-align: middle;\n",
       "    }\n",
       "\n",
       "    .dataframe tbody tr th {\n",
       "        vertical-align: top;\n",
       "    }\n",
       "\n",
       "    .dataframe thead th {\n",
       "        text-align: right;\n",
       "    }\n",
       "</style>\n",
       "<table border=\"1\" class=\"dataframe\">\n",
       "  <thead>\n",
       "    <tr style=\"text-align: right;\">\n",
       "      <th></th>\n",
       "      <th>facility_place_id</th>\n",
       "      <th>facility_provider_id</th>\n",
       "      <th>facility_name</th>\n",
       "      <th>facility_latitude</th>\n",
       "      <th>facility_longitude</th>\n",
       "      <th>facility_country_region</th>\n",
       "      <th>facility_country_region_code</th>\n",
       "      <th>facility_sub_region_1</th>\n",
       "      <th>facility_sub_region_1_code</th>\n",
       "      <th>facility_sub_region_2</th>\n",
       "      <th>facility_sub_region_2_code</th>\n",
       "      <th>facility_region_place_id</th>\n",
       "      <th>mode_of_transportation</th>\n",
       "      <th>travel_time_threshold_minutes</th>\n",
       "      <th>facility_catchment_boundary</th>\n",
       "    </tr>\n",
       "  </thead>\n",
       "  <tbody>\n",
       "    <tr>\n",
       "      <th>0</th>\n",
       "      <td>ChIJJ_lVoRNaDYgRXuLKW9p56Bw</td>\n",
       "      <td>bbd35a36-fa00-40d2-bdc5-3a0589b10832</td>\n",
       "      <td>Aunt Martha's Health Center</td>\n",
       "      <td>40.1352</td>\n",
       "      <td>-87.6362</td>\n",
       "      <td>United States</td>\n",
       "      <td>US</td>\n",
       "      <td>Illinois</td>\n",
       "      <td>US-IL</td>\n",
       "      <td>Vermilion County</td>\n",
       "      <td>17183</td>\n",
       "      <td>ChIJUweC53REDYgRGbrgYhqtJQs</td>\n",
       "      <td>drive</td>\n",
       "      <td>15</td>\n",
       "      <td>{ \"type\": \"MultiPolygon\", \"coordinates\": [ [ [...</td>\n",
       "    </tr>\n",
       "    <tr>\n",
       "      <th>1</th>\n",
       "      <td>ChIJOZHCYYm23okRSb56X80t0yc</td>\n",
       "      <td>cdc0f389-80eb-4440-b0ec-60528a3be363</td>\n",
       "      <td>Kinney Drugs</td>\n",
       "      <td>43.0424</td>\n",
       "      <td>-74.8584</td>\n",
       "      <td>United States</td>\n",
       "      <td>US</td>\n",
       "      <td>New York</td>\n",
       "      <td>US-NY</td>\n",
       "      <td>Herkimer County</td>\n",
       "      <td>36043</td>\n",
       "      <td>ChIJyeOziPvA3okRBqScD7E9IDY</td>\n",
       "      <td>drive</td>\n",
       "      <td>15</td>\n",
       "      <td>{ \"type\": \"Polygon\", \"coordinates\": [ [ [-74.8...</td>\n",
       "    </tr>\n",
       "    <tr>\n",
       "      <th>2</th>\n",
       "      <td>ChIJg0LxbQGxU4gRSjFU5cFTyyM</td>\n",
       "      <td>2481a85e-165f-4d3d-9cb3-d614e7369088</td>\n",
       "      <td>Harris Teeter Pharmacy</td>\n",
       "      <td>36.1177</td>\n",
       "      <td>-80.3106</td>\n",
       "      <td>United States</td>\n",
       "      <td>US</td>\n",
       "      <td>North Carolina</td>\n",
       "      <td>US-NC</td>\n",
       "      <td>Forsyth County</td>\n",
       "      <td>37067</td>\n",
       "      <td>ChIJOTtetxYIU4gRWkOAllmvnQ8</td>\n",
       "      <td>drive</td>\n",
       "      <td>15</td>\n",
       "      <td>{ \"type\": \"MultiPolygon\", \"coordinates\": [ [ [...</td>\n",
       "    </tr>\n",
       "    <tr>\n",
       "      <th>3</th>\n",
       "      <td>ChIJ2y5ZeVIDIogR_lgOF_N5Blc</td>\n",
       "      <td>f1b0e054-ebe5-4595-8b2b-3ea0f3a58e6f</td>\n",
       "      <td>Downtown Drugs</td>\n",
       "      <td>43.6047</td>\n",
       "      <td>-84.7765</td>\n",
       "      <td>United States</td>\n",
       "      <td>US</td>\n",
       "      <td>Michigan</td>\n",
       "      <td>US-MI</td>\n",
       "      <td>Isabella County</td>\n",
       "      <td>26073</td>\n",
       "      <td>ChIJiVwjNcwDIogR16fnxhyjLyo</td>\n",
       "      <td>drive</td>\n",
       "      <td>15</td>\n",
       "      <td>{ \"type\": \"MultiPolygon\", \"coordinates\": [ [ [...</td>\n",
       "    </tr>\n",
       "    <tr>\n",
       "      <th>4</th>\n",
       "      <td>ChIJ91yLETQc9YgRhf_iSOUTJ1w</td>\n",
       "      <td>b6eb3ee6-965d-42c1-8bdb-75844825d97f</td>\n",
       "      <td>Walmart Pharmacy</td>\n",
       "      <td>33.7282</td>\n",
       "      <td>-84.5080</td>\n",
       "      <td>United States</td>\n",
       "      <td>US</td>\n",
       "      <td>Georgia</td>\n",
       "      <td>US-GA</td>\n",
       "      <td>Fulton County</td>\n",
       "      <td>13121</td>\n",
       "      <td>ChIJ0dNnmHCr9YgRE8XXDotB0tc</td>\n",
       "      <td>drive</td>\n",
       "      <td>15</td>\n",
       "      <td>{ \"type\": \"MultiPolygon\", \"coordinates\": [ [ [...</td>\n",
       "    </tr>\n",
       "    <tr>\n",
       "      <th>...</th>\n",
       "      <td>...</td>\n",
       "      <td>...</td>\n",
       "      <td>...</td>\n",
       "      <td>...</td>\n",
       "      <td>...</td>\n",
       "      <td>...</td>\n",
       "      <td>...</td>\n",
       "      <td>...</td>\n",
       "      <td>...</td>\n",
       "      <td>...</td>\n",
       "      <td>...</td>\n",
       "      <td>...</td>\n",
       "      <td>...</td>\n",
       "      <td>...</td>\n",
       "      <td>...</td>\n",
       "    </tr>\n",
       "    <tr>\n",
       "      <th>650775</th>\n",
       "      <td>ChIJAQDQzzqPE4gRUBjcJ09TiJc</td>\n",
       "      <td>a531ca54-8459-44c1-b654-434a9f923ea4</td>\n",
       "      <td>Cass County Local Health Department</td>\n",
       "      <td>40.7692</td>\n",
       "      <td>-86.3497</td>\n",
       "      <td>United States</td>\n",
       "      <td>US</td>\n",
       "      <td>Indiana</td>\n",
       "      <td>US-IN</td>\n",
       "      <td>Cass County</td>\n",
       "      <td>18017</td>\n",
       "      <td>ChIJlRJKfvuHE4gRyFRCLkaZmh0</td>\n",
       "      <td>walk</td>\n",
       "      <td>60</td>\n",
       "      <td>{ \"type\": \"Polygon\", \"coordinates\": [ [ [-86.3...</td>\n",
       "    </tr>\n",
       "    <tr>\n",
       "      <th>650776</th>\n",
       "      <td>ChIJ2Wu_LUt_I4gRbmJ6GS0LXNo</td>\n",
       "      <td>583c349d-7473-4f3d-905d-4048c41cbaf0</td>\n",
       "      <td>Discount Rx</td>\n",
       "      <td>42.9839</td>\n",
       "      <td>-83.6771</td>\n",
       "      <td>United States</td>\n",
       "      <td>US</td>\n",
       "      <td>Michigan</td>\n",
       "      <td>US-MI</td>\n",
       "      <td>Genesee County</td>\n",
       "      <td>26049</td>\n",
       "      <td>ChIJZxlEtTp5I4gRjxdqahrBdfU</td>\n",
       "      <td>walk</td>\n",
       "      <td>60</td>\n",
       "      <td>{ \"type\": \"Polygon\", \"coordinates\": [ [ [-83.6...</td>\n",
       "    </tr>\n",
       "    <tr>\n",
       "      <th>650777</th>\n",
       "      <td>ChIJb_psL4a75YkRdkNj0vzUj90</td>\n",
       "      <td>ab3a2b50-ae29-4f34-8faa-ce0d67e8421a</td>\n",
       "      <td>Walgreens Pharmacy</td>\n",
       "      <td>41.4916</td>\n",
       "      <td>-71.4375</td>\n",
       "      <td>United States</td>\n",
       "      <td>US</td>\n",
       "      <td>Rhode Island</td>\n",
       "      <td>US-RI</td>\n",
       "      <td>Washington County</td>\n",
       "      <td>44009</td>\n",
       "      <td>ChIJxbKLtNTB5YkR5UzSIqFkN_8</td>\n",
       "      <td>walk</td>\n",
       "      <td>60</td>\n",
       "      <td>{ \"type\": \"Polygon\", \"coordinates\": [ [ [-71.4...</td>\n",
       "    </tr>\n",
       "    <tr>\n",
       "      <th>650778</th>\n",
       "      <td>ChIJgUIL6jTKjocRjXTFStQrAJk</td>\n",
       "      <td>b7b5ea38-74a8-4c80-99e2-8cb8e3683820</td>\n",
       "      <td>Hy-Vee Grocery Store</td>\n",
       "      <td>43.5277</td>\n",
       "      <td>-96.7894</td>\n",
       "      <td>United States</td>\n",
       "      <td>US</td>\n",
       "      <td>South Dakota</td>\n",
       "      <td>US-SD</td>\n",
       "      <td>Minnehaha County</td>\n",
       "      <td>46099</td>\n",
       "      <td>ChIJ16y94Ji0jocRbXLuf-gRGrM</td>\n",
       "      <td>walk</td>\n",
       "      <td>60</td>\n",
       "      <td>{ \"type\": \"Polygon\", \"coordinates\": [ [ [-96.8...</td>\n",
       "    </tr>\n",
       "    <tr>\n",
       "      <th>650779</th>\n",
       "      <td>ChIJn61qOugr1IcRZnFI0-xKqxA</td>\n",
       "      <td>fda6a552-a4c9-4c8c-ab1e-341054346a11</td>\n",
       "      <td>Nyit At Asu Medical Clinic</td>\n",
       "      <td>35.8470</td>\n",
       "      <td>-90.6661</td>\n",
       "      <td>United States</td>\n",
       "      <td>US</td>\n",
       "      <td>Arkansas</td>\n",
       "      <td>US-AR</td>\n",
       "      <td>Craighead County</td>\n",
       "      <td>5031</td>\n",
       "      <td>ChIJZ2l6Hd0t1IcRxj4A35oPQDM</td>\n",
       "      <td>walk</td>\n",
       "      <td>60</td>\n",
       "      <td>{ \"type\": \"Polygon\", \"coordinates\": [ [ [-90.7...</td>\n",
       "    </tr>\n",
       "  </tbody>\n",
       "</table>\n",
       "<p>650780 rows × 15 columns</p>\n",
       "</div>"
      ],
      "text/plain": [
       "                  facility_place_id                  facility_provider_id  \\\n",
       "0       ChIJJ_lVoRNaDYgRXuLKW9p56Bw  bbd35a36-fa00-40d2-bdc5-3a0589b10832   \n",
       "1       ChIJOZHCYYm23okRSb56X80t0yc  cdc0f389-80eb-4440-b0ec-60528a3be363   \n",
       "2       ChIJg0LxbQGxU4gRSjFU5cFTyyM  2481a85e-165f-4d3d-9cb3-d614e7369088   \n",
       "3       ChIJ2y5ZeVIDIogR_lgOF_N5Blc  f1b0e054-ebe5-4595-8b2b-3ea0f3a58e6f   \n",
       "4       ChIJ91yLETQc9YgRhf_iSOUTJ1w  b6eb3ee6-965d-42c1-8bdb-75844825d97f   \n",
       "...                             ...                                   ...   \n",
       "650775  ChIJAQDQzzqPE4gRUBjcJ09TiJc  a531ca54-8459-44c1-b654-434a9f923ea4   \n",
       "650776  ChIJ2Wu_LUt_I4gRbmJ6GS0LXNo  583c349d-7473-4f3d-905d-4048c41cbaf0   \n",
       "650777  ChIJb_psL4a75YkRdkNj0vzUj90  ab3a2b50-ae29-4f34-8faa-ce0d67e8421a   \n",
       "650778  ChIJgUIL6jTKjocRjXTFStQrAJk  b7b5ea38-74a8-4c80-99e2-8cb8e3683820   \n",
       "650779  ChIJn61qOugr1IcRZnFI0-xKqxA  fda6a552-a4c9-4c8c-ab1e-341054346a11   \n",
       "\n",
       "                              facility_name  facility_latitude  \\\n",
       "0               Aunt Martha's Health Center            40.1352   \n",
       "1                              Kinney Drugs            43.0424   \n",
       "2                    Harris Teeter Pharmacy            36.1177   \n",
       "3                            Downtown Drugs            43.6047   \n",
       "4                          Walmart Pharmacy            33.7282   \n",
       "...                                     ...                ...   \n",
       "650775  Cass County Local Health Department            40.7692   \n",
       "650776                          Discount Rx            42.9839   \n",
       "650777                   Walgreens Pharmacy            41.4916   \n",
       "650778                 Hy-Vee Grocery Store            43.5277   \n",
       "650779           Nyit At Asu Medical Clinic            35.8470   \n",
       "\n",
       "        facility_longitude facility_country_region  \\\n",
       "0                 -87.6362           United States   \n",
       "1                 -74.8584           United States   \n",
       "2                 -80.3106           United States   \n",
       "3                 -84.7765           United States   \n",
       "4                 -84.5080           United States   \n",
       "...                    ...                     ...   \n",
       "650775            -86.3497           United States   \n",
       "650776            -83.6771           United States   \n",
       "650777            -71.4375           United States   \n",
       "650778            -96.7894           United States   \n",
       "650779            -90.6661           United States   \n",
       "\n",
       "       facility_country_region_code facility_sub_region_1  \\\n",
       "0                                US              Illinois   \n",
       "1                                US              New York   \n",
       "2                                US        North Carolina   \n",
       "3                                US              Michigan   \n",
       "4                                US               Georgia   \n",
       "...                             ...                   ...   \n",
       "650775                           US               Indiana   \n",
       "650776                           US              Michigan   \n",
       "650777                           US          Rhode Island   \n",
       "650778                           US          South Dakota   \n",
       "650779                           US              Arkansas   \n",
       "\n",
       "       facility_sub_region_1_code facility_sub_region_2  \\\n",
       "0                           US-IL      Vermilion County   \n",
       "1                           US-NY       Herkimer County   \n",
       "2                           US-NC        Forsyth County   \n",
       "3                           US-MI       Isabella County   \n",
       "4                           US-GA         Fulton County   \n",
       "...                           ...                   ...   \n",
       "650775                      US-IN           Cass County   \n",
       "650776                      US-MI        Genesee County   \n",
       "650777                      US-RI     Washington County   \n",
       "650778                      US-SD      Minnehaha County   \n",
       "650779                      US-AR      Craighead County   \n",
       "\n",
       "        facility_sub_region_2_code     facility_region_place_id  \\\n",
       "0                            17183  ChIJUweC53REDYgRGbrgYhqtJQs   \n",
       "1                            36043  ChIJyeOziPvA3okRBqScD7E9IDY   \n",
       "2                            37067  ChIJOTtetxYIU4gRWkOAllmvnQ8   \n",
       "3                            26073  ChIJiVwjNcwDIogR16fnxhyjLyo   \n",
       "4                            13121  ChIJ0dNnmHCr9YgRE8XXDotB0tc   \n",
       "...                            ...                          ...   \n",
       "650775                       18017  ChIJlRJKfvuHE4gRyFRCLkaZmh0   \n",
       "650776                       26049  ChIJZxlEtTp5I4gRjxdqahrBdfU   \n",
       "650777                       44009  ChIJxbKLtNTB5YkR5UzSIqFkN_8   \n",
       "650778                       46099  ChIJ16y94Ji0jocRbXLuf-gRGrM   \n",
       "650779                        5031  ChIJZ2l6Hd0t1IcRxj4A35oPQDM   \n",
       "\n",
       "       mode_of_transportation  travel_time_threshold_minutes  \\\n",
       "0                       drive                             15   \n",
       "1                       drive                             15   \n",
       "2                       drive                             15   \n",
       "3                       drive                             15   \n",
       "4                       drive                             15   \n",
       "...                       ...                            ...   \n",
       "650775                   walk                             60   \n",
       "650776                   walk                             60   \n",
       "650777                   walk                             60   \n",
       "650778                   walk                             60   \n",
       "650779                   walk                             60   \n",
       "\n",
       "                              facility_catchment_boundary  \n",
       "0       { \"type\": \"MultiPolygon\", \"coordinates\": [ [ [...  \n",
       "1       { \"type\": \"Polygon\", \"coordinates\": [ [ [-74.8...  \n",
       "2       { \"type\": \"MultiPolygon\", \"coordinates\": [ [ [...  \n",
       "3       { \"type\": \"MultiPolygon\", \"coordinates\": [ [ [...  \n",
       "4       { \"type\": \"MultiPolygon\", \"coordinates\": [ [ [...  \n",
       "...                                                   ...  \n",
       "650775  { \"type\": \"Polygon\", \"coordinates\": [ [ [-86.3...  \n",
       "650776  { \"type\": \"Polygon\", \"coordinates\": [ [ [-83.6...  \n",
       "650777  { \"type\": \"Polygon\", \"coordinates\": [ [ [-71.4...  \n",
       "650778  { \"type\": \"Polygon\", \"coordinates\": [ [ [-96.8...  \n",
       "650779  { \"type\": \"Polygon\", \"coordinates\": [ [ [-90.7...  \n",
       "\n",
       "[650780 rows x 15 columns]"
      ]
     },
     "execution_count": 3,
     "metadata": {},
     "output_type": "execute_result"
    }
   ],
   "source": [
    "df_vaccination_access"
   ]
  },
  {
   "cell_type": "code",
   "execution_count": 4,
   "id": "a823f0b4",
   "metadata": {},
   "outputs": [],
   "source": [
    "df_vaccination_access = df_vaccination_access[[\"facility_name\", \"facility_latitude\", \"facility_longitude\",\n",
    "                                               \"facility_country_region_code\", \"facility_sub_region_1_code\"]]"
   ]
  },
  {
   "cell_type": "code",
   "execution_count": 6,
   "id": "b058591b",
   "metadata": {},
   "outputs": [],
   "source": [
    "df_vaccination_access = df_vaccination_access[df_vaccination_access[\"facility_country_region_code\"] == \"US\"]\n",
    "df_vaccination_access[\"state\"] = df_vaccination_access[\"facility_sub_region_1_code\"].apply(\n",
    "    lambda row: row.split(\"-\")[1])"
   ]
  },
  {
   "cell_type": "code",
   "execution_count": 8,
   "id": "e0667d35",
   "metadata": {},
   "outputs": [],
   "source": [
    "df_vaccination_access = df_vaccination_access[[\"facility_name\", \"facility_latitude\", \"facility_longitude\", \"state\"]]"
   ]
  },
  {
   "cell_type": "code",
   "execution_count": 10,
   "id": "ea8ec2b1",
   "metadata": {},
   "outputs": [
    {
     "data": {
      "text/plain": [
       "51"
      ]
     },
     "execution_count": 10,
     "metadata": {},
     "output_type": "execute_result"
    }
   ],
   "source": [
    "len(set(df_vaccination_access[\"state\"]))"
   ]
  },
  {
   "cell_type": "code",
   "execution_count": 11,
   "id": "1e771326",
   "metadata": {},
   "outputs": [],
   "source": [
    "df_vaccination_access.to_csv(\"vaccination_sites.csv\")"
   ]
  },
  {
   "cell_type": "code",
   "execution_count": 34,
   "id": "1924ade4",
   "metadata": {},
   "outputs": [
    {
     "name": "stdout",
     "output_type": "stream",
     "text": [
      "39227\n",
      "   Unnamed: 0        date state  new_confirmed  inpatient_beds_utilization  \\\n",
      "0           0  2020-03-23    AK            4.0                    0.375000   \n",
      "1           1  2020-03-24    AK            7.0                    0.357143   \n",
      "2           2  2020-03-25    AK           14.0                    0.267857   \n",
      "3           3  2020-03-26    AK           11.0                    0.285714   \n",
      "4           4  2020-03-27    AK           17.0                    0.283951   \n",
      "\n",
      "   latitude  longitude  cases_per_population  \n",
      "0      64.0     -150.0              0.000542  \n",
      "1      64.0     -150.0              0.000948  \n",
      "2      64.0     -150.0              0.001896  \n",
      "3      64.0     -150.0              0.001490  \n",
      "4      64.0     -150.0              0.002302  \n",
      "38456\n"
     ]
    }
   ],
   "source": [
    "## Remove rows after march 15 2020\n",
    "from datetime import datetime\n",
    "df = pd.read_csv(\"../data/cases_hospital_bed_usa_statewise.csv\")\n",
    "df[\"date\"] = df[\"date\"].map(\n",
    "    lambda row: datetime.strptime(row, \"%Y-%m-%d\").date())\n",
    "print(len(df))\n",
    "print(df.head())\n",
    "date = \"2020-03-15\"\n",
    "date = datetime.strptime(date, \"%Y-%m-%d\").date()\n",
    "df_filtered = df[df[\"date\"]>date]\n",
    "print(len(df_filtered))"
   ]
  },
  {
   "cell_type": "code",
   "execution_count": 36,
   "id": "5ce55c85",
   "metadata": {},
   "outputs": [],
   "source": [
    "df_filtered.to_csv(\"cases_hospital_bed_usa_statewise.csv\")"
   ]
  },
  {
   "cell_type": "code",
   "execution_count": null,
   "id": "85eec374",
   "metadata": {},
   "outputs": [],
   "source": []
  }
 ],
 "metadata": {
  "kernelspec": {
   "display_name": "Python 3 (ipykernel)",
   "language": "python",
   "name": "python3"
  },
  "language_info": {
   "codemirror_mode": {
    "name": "ipython",
    "version": 3
   },
   "file_extension": ".py",
   "mimetype": "text/x-python",
   "name": "python",
   "nbconvert_exporter": "python",
   "pygments_lexer": "ipython3",
   "version": "3.9.7"
  }
 },
 "nbformat": 4,
 "nbformat_minor": 5
}
